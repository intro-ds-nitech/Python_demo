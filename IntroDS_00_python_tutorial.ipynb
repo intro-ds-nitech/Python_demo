{
  "nbformat": 4,
  "nbformat_minor": 0,
  "metadata": {
    "colab": {
      "name": "IntroDS_00_python_tutorial.ipynb",
      "provenance": [],
      "collapsed_sections": [
        "RaXvbHEUeGPe",
        "hdKtZKYhQcCN"
      ]
    },
    "kernelspec": {
      "name": "python3",
      "display_name": "Python 3"
    }
  },
  "cells": [
    {
      "cell_type": "markdown",
      "metadata": {
        "id": "RaXvbHEUeGPe"
      },
      "source": [
        "# 0. このチュートリアルについて\n",
        "<font size=2 color=blue>\n",
        "・Pythonプログラミングのチュートリアルページへようこそ！\n",
        "<br>\n",
        "・これは 名古屋工業大学 共通科目 数理情報概論 のために用意したものです．<br>\n",
        "・ここでは，いくつかの項目に分けて短いサンプルコードを提供しています．まずは，それぞれのサンプルコードを実行してみましょう．左端の▷ボタンをクリックするとプログラムを実行できます．\n",
        "<br>\n",
        "・プログラミングを楽しむために，難しいことは考えず，「プログラムを書き換える」→「実行する」→「出力結果を確認する」を繰り返してみてください．その方が理解が早い場合が多いです．\n",
        "<br>\n",
        "・項目ごとに【コードの解説】を書いておきました．できるだけ丁寧な説明を書いたので気になる方は読んでみてください．説明を聞いても逆に良く分からないという方も居ると思います．感覚でいけちゃう人は読まなくても大丈夫です．\n",
        "<br>\n",
        "・全項目について，雰囲気を感じられたらそれで十分だと思います．\n",
        "<br>\n",
        "・このチュートリアルについて提出課題などは特にありません．楽しんでください．\n",
        "<br>\n",
        "それでは，やっていきましょう！レディ・ゴー！\n",
        "</font>"
      ]
    },
    {
      "cell_type": "markdown",
      "metadata": {
        "id": "gUkouTBqoNwF"
      },
      "source": [
        "# 1. スカラー変数の定義\n",
        "まずは，以下のコードを実行してみましょう．（左端の▷ボタンをクリック）<br>\n",
        "aに入る数字を変えたり，新しい変数bを定義してみたり，いろいろ試してみましょう．"
      ]
    },
    {
      "cell_type": "code",
      "metadata": {
        "id": "OVbINpIZnnFX"
      },
      "source": [
        "a = 3\n",
        "print(a)"
      ],
      "execution_count": null,
      "outputs": []
    },
    {
      "cell_type": "markdown",
      "metadata": {
        "id": "4aGQgT0zvY0g"
      },
      "source": [
        "<font size=2 color=blue>\n",
        "【コードの解説】<br>\n",
        "まず，コードは基本的に上から一行ずつ順番に実行されます．<br>\n",
        "① 1行目の\"a=3\"は「変数aにスカラー値3を代入せよ」という意味です．<br>\n",
        "プログラミングにおいて\"=\"は「右辺の処理結果の値を左辺の変数に代入する」という意味になります．（方程式ではないので気をつけましょう．）<br>\n",
        "② 2行目では関数\"print()\"を使って，変数aの値を表示しています．関数は，数学で学ぶy=f(x)のようなものです．何かを入力したら，何かを出力する機能を持っています．デフォルトの実行結果では関数\"print()\"に変数\"a\"が入力されていて，中の値\"3\"が文字列として出力されています．\n",
        "</font>"
      ]
    },
    {
      "cell_type": "markdown",
      "metadata": {
        "id": "mpnkx1-5yTAS"
      },
      "source": [
        "# 2. スカラーの四則演算\n",
        "続いて，以下のコードを実行してみましょう<br>\n",
        "s,tに入る数値をいじってみたり，\"s+2*t\"などいろいろ試してみてください．\n",
        "ちなみにsのt乗は\"s *** t\"と表現します．"
      ]
    },
    {
      "cell_type": "code",
      "metadata": {
        "id": "XVHPJ3mIyvZT"
      },
      "source": [
        "s = 3\n",
        "t = 4\n",
        "print(s + t)\n",
        "print(s - t)\n",
        "print(s * t)\n",
        "print(s / t)"
      ],
      "execution_count": null,
      "outputs": []
    },
    {
      "cell_type": "markdown",
      "metadata": {
        "id": "l0OtaJ0jzzGW"
      },
      "source": [
        "<font size=2 color=blue>\n",
        "【コードの解説】<br>\n",
        "足し算，引き算，掛け算，割り算には，それぞれ\"+\"，\"-\"，\"*\"，\"/\"の演算子を使います．"
      ]
    },
    {
      "cell_type": "markdown",
      "metadata": {
        "id": "c_aLK4Vk0m78"
      },
      "source": [
        "#3. ベクトル変数の定義\n",
        "次は，（１次元配列で表現した）ベクトル変数の定義を行います． <br>\n",
        "$\\boldsymbol x = \\begin{pmatrix} 1 \\\\ 2 \\end{pmatrix}$ を定義して，要素$x_1$と$x_2$を取り出してみます．<br>\n",
        "新しい配列を定義してみたり，配列のサイズを変えてみたり，いろいろ試してみましょう．"
      ]
    },
    {
      "cell_type": "code",
      "metadata": {
        "id": "Mm_emyL8uG1W"
      },
      "source": [
        "import numpy as np\n",
        "\n",
        "x = np.array([1, 2])\n",
        "print(x[0])\n",
        "print(x[1])\n",
        "print(x)"
      ],
      "execution_count": null,
      "outputs": []
    },
    {
      "cell_type": "markdown",
      "metadata": {
        "id": "typaq-k9-UJj"
      },
      "source": [
        "<font size=2 color=blue>\n",
        "【コードの解説】<br>\n",
        "① 1行目の\"import numpy as np\"は「numpyという道具（パッケージ）を使います．名前をnpと省略します」の意味です．※料理をするときに電子レンジを使うよ，とかガスコンロを使うよ，以後それぞれレンジ，コンロと略すよ，みたいなニュアンスです．ちなみにnumpyはpython上の数値処理や配列処理には必須の道具になります．<br>\n",
        "② 3行目の\"x = np.array([1, 2])\"では，ベクトル$\\boldsymbol x = (1, 2)^\\top$を定義しています．\"np.array()\"は配列を定義するために使用する関数です．配列自体は\"[1, 2]\"のように表現します．<br>\n",
        "③ 4-5行目ではベクトル$\\boldsymbol x$の要素$x_1$, $x_2$の値を取り出して表示しています．pythonの配列では要素番号を\"0\"から数えることに注意が必要です．つまり，第1要素$x_1$はx[0]で，第2要素$x_2$はx[1]となります．紛らわしいです．<br>\n",
        "④ \"print(x)\"で配列x全体を出力することもできます．"
      ]
    },
    {
      "cell_type": "code",
      "metadata": {
        "id": "PL_nJz8tuoJH"
      },
      "source": [
        "print(a,s,t,x)"
      ],
      "execution_count": null,
      "outputs": []
    },
    {
      "cell_type": "markdown",
      "metadata": {
        "id": "dRrr4A0JwJ5z"
      },
      "source": [
        "<font size=2 color=blue>\n",
        "【コードの解説】<br>\n",
        "ちなみに以前に別のセルを実行して定義した変数や道具(numpyなど)は，これから実行するセルにも反映されています．特に，\"import numpy as np\"などの道具の宣言は一番最初に宣言するのが通例です．"
      ]
    },
    {
      "cell_type": "markdown",
      "metadata": {
        "id": "-0-V37D2wyHN"
      },
      "source": [
        "# 4. ベクトルの演算（その１）\n",
        "次に，ベクトルの簡単な演算について考えます．<br>\n",
        "1.   ベクトルの定数倍は，各要素の定数倍でした．<br>\n",
        "$a \\boldsymbol x = a \\begin{pmatrix} x_n \\\\ \\vdots \\\\ x_n \\end{pmatrix} = \\begin{pmatrix} a x_n \\\\ \\vdots \\\\ a x_n \\end{pmatrix} \\in \\mathbb{R}^n$\n",
        "2.   ベクトルの和は，各要素の和でした．<br>\n",
        "$\\boldsymbol x + \\boldsymbol y = \\begin{pmatrix} x_1 \\\\ \\vdots \\\\ x_n \\end{pmatrix} + \\begin{pmatrix} y_1 \\\\ \\vdots \\\\ y_n \\end{pmatrix} = \\begin{pmatrix} x_1 + y_1 \\\\ \\vdots \\\\ x_n + y_n \\end{pmatrix} \\in \\mathbb{R}^n$\n",
        "3.   組み合わせると以下(分配法則)も成り立ちます．<br>\n",
        "$a(\\boldsymbol x + \\boldsymbol y) = a \\begin{pmatrix} x_1 + y_1 \\\\ \\vdots \\\\ x_n + y_n \\end{pmatrix} =  a \\begin{pmatrix} x_1 \\\\ \\vdots \\\\ x_n \\end{pmatrix} + a \\begin{pmatrix} y_1 \\\\ \\vdots \\\\ y_n \\end{pmatrix} = a \\boldsymbol x + a \\boldsymbol y \\in \\mathbb{R}^n$\n",
        "\n",
        "この演算をpythonで書くと以下のようになります．\n",
        "配列の中身を変えてみたり，式を変えてみたり，いろいろ試してみてください．"
      ]
    },
    {
      "cell_type": "code",
      "metadata": {
        "id": "qrL6eu4L0FP3"
      },
      "source": [
        "x = np.array([1, 2, 3])\n",
        "y = np.array([3, 2, 1])\n",
        "a = 10\n",
        "print(a * x)\n",
        "print(x + y)\n",
        "print(a * (x + y))"
      ],
      "execution_count": null,
      "outputs": []
    },
    {
      "cell_type": "markdown",
      "metadata": {
        "id": "pafG3eJq1JMC"
      },
      "source": [
        "<font size=2 color=blue>\n",
        "【コードの解説】<br>\n",
        "1-3行目でベクトルx, ベクトルy, スカラーaをそれぞれ定義して，それ以降で演算を行っています．<br>\n",
        "① ベクトルのスカラー倍は直接a*xのような形で表現できます．直感的で便利です．<br>\n",
        "② 同じサイズのベクトル同士はx+yのような形で足し算できます．サイズが異なるとエラーが出ます．<br>\n",
        "③ 数式みたいに括弧も使えます．括弧の内側の演算が先に処理され，その結果を用いて外側の演算が処理されます．括弧を上手に使えば，全体の数値処理を効率化することもできます．"
      ]
    },
    {
      "cell_type": "code",
      "metadata": {
        "id": "b4Tirij65kAv"
      },
      "source": [
        "print(x - y)\n",
        "print(x * y)\n",
        "print(x / y)\n",
        "print(x ** y)\n",
        "\n",
        "print(1 + x)\n",
        "print(x + 1)\n",
        "print(x ** 2)\n",
        "print(2 ** x)"
      ],
      "execution_count": null,
      "outputs": []
    },
    {
      "cell_type": "markdown",
      "metadata": {
        "id": "sp_tWtzg6B9M"
      },
      "source": [
        "<font size=2 color=blue>\n",
        "【コードの解説】<br>\n",
        "① 1-4行目ではベクトルの要素ごとの演算のいくつかの例を示しました．\n",
        "\"-\", \"*\", \"/\", \"**\"の表現を用いて, それぞれ要素ごとの差($x_i - y_i$)，要素ごとの積($x_i y_i$)，要素ごとの商($\\frac{x_i}{y_i}$)，要素ごとの累乗($x_i^{y_i}$)の数値処理ができます．<br>\n",
        "② 6-8行目では，数学的な直感とはズレた（プログラミングならではの）表現を用いて要素ごとの演算を行っています．例えば\"1+x\"のような表現では，\"1\"を全要素が1のベクトルとみなして処理が行われます．このようにスカラーで表現されたものを擬似的にベクトルとみなす処理はブロードキャストと呼ばれることがあります．"
      ]
    },
    {
      "cell_type": "markdown",
      "metadata": {
        "id": "dazRm56m68js"
      },
      "source": [
        "# 5. ベクトルの演算（その２）\n",
        "ここでは，ベクトルの内積について考えます．\n",
        "1. ２つの$n$次元ベクトル$\\boldsymbol x, \\boldsymbol y \\in \\mathbb{R}^n$の内積は以下で定義されます．<br>\n",
        "$\\langle \\boldsymbol x, \\boldsymbol y \\rangle := \\boldsymbol x^\\top \\boldsymbol y = \\sum_{i=1}^n x_i y_i \\in \\mathbb{R}$<br>\n",
        "ここで理解すべきは，内積が「要素ごとの積($x_i y_i$)」と「総和処理($\\sum_{i=1}^n$)」の組み合わせ，ということです．内積の結果はスカラー値です．\n",
        "大学の数学では，内積を$\\langle \\cdot, \\cdot \\rangle$で表現することがあるので覚えておきましょう．定義から$\\langle \\boldsymbol x, \\boldsymbol y \\rangle = \\langle \\boldsymbol y, \\boldsymbol x \\rangle$です．$\\langle a\\boldsymbol x, \\boldsymbol y \\rangle = a \\langle \\boldsymbol x, \\boldsymbol y \\rangle$ということも分かります．<br>\n",
        "\n",
        "2. さて，もしも，$\\boldsymbol y = \\boldsymbol 1 = \\begin{pmatrix} 1 \\\\ \\vdots \\\\ 1 \\end{pmatrix}$だったら内積はどうなるでしょうか？この場合は<br>\n",
        "$\\langle \\boldsymbol x, \\boldsymbol 1 \\rangle = \\sum_{i=1}^n x_i \\times 1 =  \\sum_{i=1}^n x_i \\in \\mathbb{R}$<br>\n",
        "であり，単純にxの全要素の足し算になります．\n",
        "\n",
        "3. 今度は，$\\boldsymbol y = \\boldsymbol x$の場合を考えてみましょう．<br>\n",
        "$\\langle \\boldsymbol x, \\boldsymbol x \\rangle = \\sum_{i=1}^n x_i x_i =  \\sum_{i=1}^n x_i^2 = || \\boldsymbol x ||^2 \\in \\mathbb{R}$ <br>\n",
        "これはベクトルのノルム（長さ）の二乗ですね．ピタゴラスの定理($a^2 + b^2 = c^2$)的なやつです．\n",
        "\n",
        "4. 最後に，ベクトル$\\boldsymbol x$のノルムは平方根を使って以下の式で与えられます．<br>\n",
        "$||\\boldsymbol x|| = \\sqrt{ \\langle \\boldsymbol x, \\boldsymbol x \\rangle  } = \\sqrt{ \\sum_{i=1}^n x_i^2 }$\n",
        "\n",
        "\n",
        "ここまでをpythonで書くと以下のようになります．"
      ]
    },
    {
      "cell_type": "code",
      "metadata": {
        "id": "4lasYMHD69My"
      },
      "source": [
        "x = np.array([3, 4])\n",
        "y = np.array([1, 2])\n",
        "\n",
        "print(np.sum(x * y))\n",
        "print(np.sum(x))\n",
        "print(np.sum(x ** 2))\n",
        "print(np.sqrt(np.sum(x ** 2)))"
      ],
      "execution_count": null,
      "outputs": []
    },
    {
      "cell_type": "markdown",
      "metadata": {
        "id": "229Kb-kQ_wZ6"
      },
      "source": [
        "<font size=2 color=blue>\n",
        "【コードの解説】<br>\n",
        "コードにすると簡単ですね．内積は「要素ごとの積」と「総和処理」の組み合わせでした．関数\"np.sum()\"が総和処理をしてくれます．また，関数\"np.sqrt()\"が平方根を出力してくれます．内側→外側の順番で処理が進むことを意識しながら見ていきましょう．<br>\n",
        "① 4行目ではx,yの内積を出力しています．まず，内側の\"x * y\"で要素ごとの積算処理が行われて，その後\"np.sum()\"で全要素の総和処理が行われます．<br>\n",
        "② 5行目は単純にxの全要素の総和処理が行われます．<br>\n",
        "③ 6行目では，\"x ** 2\"の要素ごとの二乗処理が行われて，その後\"np.sum()\"で全要素の総和処理が行われます．<br>\n",
        "④ 7行目では，上記の処理の後，さらに平方根の演算処理が行われます．\n"
      ]
    },
    {
      "cell_type": "markdown",
      "metadata": {
        "id": "PcTN1WRjI8YU"
      },
      "source": [
        "# 6. 行列変数の定義\n",
        "いよいよ，（2次元配列で表現した）行列変数の定義を行います．<br>\n",
        "以下の2×3の行列$X$を定義し，各要素{$x_{11}, x_{12}, ..., x_{23}$}を取り出してみます．<br>\n",
        "$X = \\begin{pmatrix} 1 & 2 & 3 \\\\ 4 & 5 & 6 \\end{pmatrix}$\n"
      ]
    },
    {
      "cell_type": "code",
      "metadata": {
        "id": "ebsjmpSlUFO6"
      },
      "source": [
        "X = np.array([[1, 2, 3], [4, 5, 6]])\n",
        "print(X)\n",
        "print(X.shape)\n",
        "\n",
        "print(X[0,0])\n",
        "print(X[0,1])\n",
        "print(X[0,2])\n",
        "print(X[1,0])\n",
        "print(X[1,1])\n",
        "print(X[1,2])"
      ],
      "execution_count": null,
      "outputs": []
    },
    {
      "cell_type": "markdown",
      "metadata": {
        "id": "cNzJePeeWkHK"
      },
      "source": [
        "<font size=2 color=blue>\n",
        "【コードの解説】<br>\n",
        "① ベクトルの時と同じく，関数\"np.array()\"を用いて行列（2次元配列）を定義します．\n",
        "中身は\"[[1, 2, 3], [4, 5, 6]]\"となっています．これは1次元配列[x1, x2]の各要素がさらに1次元配列 x1=[1, 2, 3]，x2=[4, 5, 6]になっていると見ることができます．つまり2次元配列は「配列の配列」ということです．この講義では出てきませんが，3次元配列はさらに「配列の配列の配列」のような代物になります．\n",
        "関数\"print()\"で配列の中身を表示することができます．\"X.shape\"で行列のサイズを取り出すことができます．\n",
        "<br>\n",
        "② 5-10行目では，それぞれの配列の中身を取り出して，\"print()\"で表示しています．ベクトルでもそうでしたが，要素番号を0から数える点に注意が必要です．$x_{11}$ならX[0,0]，$x_{23}$ならX[1,2]となります．紛らわしいですね．"
      ]
    },
    {
      "cell_type": "markdown",
      "metadata": {
        "id": "Yk0H5-Vgc07V"
      },
      "source": [
        "# 7. 行列の演算（その１）\n",
        "ここでは行列の演算をいくつか紹介します．基本的にはベクトルと同じです．\n",
        "1. 行列の転置 $X^\\top$<br>\n",
        "$V = X^\\top$ と置くと，各要素は$v_{ji} = x_{ij}$で与えられる\n",
        "2. 行列の定数倍<br>\n",
        "$W = a X$ と置くと，各要素は$w_{ij} = a x_{ij}$で与えられる\n",
        "3. 行列の和と差<br>\n",
        "$Z = X + Y$ と置くと，各要素は$z_{ij} = x_{ij} + y_{ij}$で与えられる <br>\n",
        "$Z = X - Y$ と置くと，各要素は$z_{ij} = x_{ij} - y_{ij}$で与えられる <br>\n",
        "\n",
        "では，これらの演算をpythonでやってみましょう．"
      ]
    },
    {
      "cell_type": "code",
      "metadata": {
        "id": "GjGlGyHye8CM"
      },
      "source": [
        "X = np.array([[1, 2, 3], [4, 5, 6]])\n",
        "Y = np.array([[6, 5, 4], [3, 2, 1]])\n",
        "a = 10;\n",
        "\n",
        "print(X.T)\n",
        "print(a*X)\n",
        "print(X + Y)\n",
        "print(X - Y)\n",
        "print(a*(X + Y))"
      ],
      "execution_count": null,
      "outputs": []
    },
    {
      "cell_type": "markdown",
      "metadata": {
        "id": "gYfcnX_pfxxA"
      },
      "source": [
        "<font size=2 color=blue>\n",
        "【コードの解説】<br>\n",
        "1-3行目で行列X, 行列Y, スカラーaをそれぞれ定義して，それ以降で演算を行っています．<br>\n",
        "① 行列の転置は\".T\"で表現することができます．\"Transposed\"のTです．<br>\n",
        "② 行列のスカラー倍は直接a*Xのような形で表現できます．直感的で便利です．<br>\n",
        "③ 同じサイズの行列同士はX+Y，X-Yのような形で足し算，引き算できます．サイズが異なるとエラーが出ます．<br>\n",
        "④ 数式みたいに括弧も使えます．ベクトルと同じですね．"
      ]
    },
    {
      "cell_type": "code",
      "metadata": {
        "id": "SvlJDIxiCnZY"
      },
      "source": [
        "h = np.array([[1], [4]])\n",
        "print(h)\n",
        "print(X - h)"
      ],
      "execution_count": null,
      "outputs": []
    },
    {
      "cell_type": "markdown",
      "metadata": {
        "id": "BdicF7xvDRkY"
      },
      "source": [
        "<font size=2 color=blue>\n",
        "【コードの解説】<br>\n",
        "ここで示したのはベクトルで学んだブロードキャストの応用になります．<br>\n",
        "① 1行目では変数hを定義しています．これはサイズ(2,1)の行列です．1列しかないので数学的にはベクトルですがpythonさんはこれをあくまで二次元配列として認識しています．2行目の\"print(h)\"の出力からそれが分かると思います．<br>\n",
        "② 3行目は前のセルで定義したサイズ(2,3)の行列Xとhの引き算です．数学的には行列とベクトルの引き算のような表現は使いませんが，ここでブロードキャストの処理が登場します．サイズ(2,1)の行列hをサイズ(2,3)の行列とみなして引き算処理が行われます．存在しない2列目，3列目は1列目と同じとみなして，雰囲気ですが[h, h, h]のようになっているイメージです．"
      ]
    },
    {
      "cell_type": "markdown",
      "metadata": {
        "id": "BDXQCEUUhplU"
      },
      "source": [
        "# 8. 行列の演算（その２）\n",
        "ここでは行列と行列（ベクトル）の掛け算について紹介します．<br>\n",
        "1. 行列とベクトルの掛け算<br>\n",
        "$X = \\begin{pmatrix} \\boldsymbol{x}_1^\\top \\\\ \\vdots \\\\ \\boldsymbol{x}_n^\\top \\end{pmatrix} \\in \\mathbb{R}^{n \\times d}$，$\\boldsymbol{\\beta} \\in \\mathbb{R}^d$ が与えられているとします．<br>\n",
        "この時，$X$と$\\boldsymbol{\\beta}$の掛け算は<br>\n",
        "$X \\boldsymbol{\\beta} := \\begin{pmatrix}\\boldsymbol{x}_1^\\top \\boldsymbol{\\beta}\\\\ \\vdots \\\\ \\boldsymbol{x}_n^\\top \\boldsymbol{\\beta} \\end{pmatrix} = \\begin{pmatrix} \\langle \\boldsymbol{x}_1, \\boldsymbol{\\beta} \\rangle \\\\ \\vdots \\\\ \\langle \\boldsymbol{x}_n, \\boldsymbol{\\beta} \\rangle \\end{pmatrix} \\in \\mathbb{R}^n $ <br>\n",
        "のように与えられます．計算結果の各要素は内積です．\n",
        "\n",
        "2. 行列と行列の掛け算<br>\n",
        "$X = \\begin{pmatrix} \\boldsymbol{x}_1^\\top \\\\ \\vdots \\\\ \\boldsymbol{x}_n^\\top \\end{pmatrix} \\in \\mathbb{R}^{n \\times d}$，$V = ( \\boldsymbol{v}_1, ..., \\boldsymbol{v}_m ) \\in \\mathbb{R}^{d \\times m}$ が与えられているとします．<br>\n",
        "この時，$X$と$V$の掛け算は<br>\n",
        "$XV = (X \\boldsymbol{v}_1, ..., X \\boldsymbol{v}_m) = \\begin{pmatrix} \\langle \\boldsymbol{x}_1, \\boldsymbol{v}_1 \\rangle & \\cdots & \\langle \\boldsymbol{x}_1, \\boldsymbol{v}_m \\rangle \\\\ \\vdots & \\ddots & \\vdots \\\\ \\langle \\boldsymbol{x}_n, \\boldsymbol{v}_1 \\rangle & \\cdots & \\langle \\boldsymbol{x}_n, \\boldsymbol{v}_m \\rangle \\end{pmatrix} \\in \\mathbb{R}^{n \\times m} $<br>\n",
        "のように与えられます．計算結果の各要素はやはり内積です．\n",
        "\n",
        "では，これらの演算をpythonでやってみましょう．\n"
      ]
    },
    {
      "cell_type": "code",
      "metadata": {
        "id": "r1RvlNJWv2x6"
      },
      "source": [
        "X = np.array([[1, 2, 3], [2, 3, 4]])\n",
        "beta = np.array([1/3, 1/3, 1/3])\n",
        "V = np.array([[1, 0], [-1, 1], [0, -1]])\n",
        "\n",
        "print(X.dot(beta))\n",
        "print(X.dot(V))"
      ],
      "execution_count": null,
      "outputs": []
    },
    {
      "cell_type": "markdown",
      "metadata": {
        "id": "3aIhqZWGzy6P"
      },
      "source": [
        "<font size=2 color=blue>\n",
        "【コードの解説】<br>\n",
        "1-3行目で行列X, ベクトルbeta, スカラーVをそれぞれ定義して，それ以降で演算を行っています．<br>\n",
        "行列-ベクトル積でも行列-行列積でも，同様に\".dot()\"を使います．"
      ]
    },
    {
      "cell_type": "markdown",
      "metadata": {
        "id": "DuOTyN9JyTiS"
      },
      "source": [
        "# 9. 行列の演算（その３）\n",
        "\n",
        "行列演算の続きです．逆行列の定義と演算を紹介します．\n",
        "\n",
        "1. $X = (\\boldsymbol x_1, ... \\boldsymbol x_n)^\\top \\in \\mathbb{R}^{n \\times d}$と置くと，$X X^\\top$は，<br>\n",
        "$X X^\\top = \\begin{pmatrix} \\langle \\boldsymbol{x}_1, \\boldsymbol{x}_1 \\rangle & \\cdots & \\langle \\boldsymbol{x}_1, \\boldsymbol{x}_n \\rangle \\\\ \\vdots & \\ddots & \\vdots \\\\ \\langle \\boldsymbol{x}_n, \\boldsymbol{x}_1 \\rangle & \\cdots & \\langle \\boldsymbol{x}_n, \\boldsymbol{x}_n \\rangle \\end{pmatrix} \\in \\mathbb{R}^{n \\times n}$ <br>\n",
        "となる．\n",
        "\n",
        "2. $H := X X^\\top$ と置く，逆行列$H^{-1}$が存在する時，<br>\n",
        "$H^{-1} H = H H^{-1} = I = \\begin{pmatrix} 1 & & \\\\ & \\ddots & \\\\ & & 1 \\end{pmatrix}$<br>\n",
        "が成り立つ．(というか，$H$に対して上式が成り立つような行列$H^{-1}$が逆行列として定義されます．)\n",
        "\n",
        "では，これらの演算をpythonでやってみましょう．"
      ]
    },
    {
      "cell_type": "code",
      "metadata": {
        "id": "4JyrDqCQyd9Y"
      },
      "source": [
        "X = np.array([[1, 1, 0], [0, 1, 1]])\n",
        "H = X.dot(X.T)\n",
        "Hinv = np.linalg.inv(H)\n",
        "\n",
        "print(H)\n",
        "print(Hinv)\n",
        "print(H.dot(Hinv))\n",
        "print(Hinv.dot(H))"
      ],
      "execution_count": null,
      "outputs": []
    },
    {
      "cell_type": "markdown",
      "metadata": {
        "id": "MU-MrWzy2BDe"
      },
      "source": [
        "<font size=2 color=blue>\n",
        "【コードの解説】<br>\n",
        "2行目の$H=XX^\\top$の処理はこれまでの合わせ技（=転置+行列積）です．<br>\n",
        "3行目では逆行列の演算をしていて，これには特別な関数\"np.linalg.inv()\"を使います．<br>\n",
        "5-8行目で各演算結果の表示をしています．7-8行目の出力は単位行列になっているはずです．"
      ]
    },
    {
      "cell_type": "markdown",
      "metadata": {
        "id": "vCEhmgkg5KEY"
      },
      "source": [
        "# 10. その他，便利な関数\n",
        "最後に，いくつかの便利な関数について紹介します．<br>\n",
        "題材として，以下のシミュレーションをしてみます．<br>\n",
        "$y_i = \\exp(x_i) + \\varepsilon_i, \\varepsilon_i \\sim N(0,1), i = 1, ..., n$<br>\n",
        "生成した$y_i$の平均と分散を計算し，散布図とヒストグラムを描画します．<br>\n",
        "\n",
        "まずは，以下のpythonコードを実行してみましょう！"
      ]
    },
    {
      "cell_type": "code",
      "metadata": {
        "id": "Bl0TUOEy6wOl"
      },
      "source": [
        "%matplotlib inline\n",
        "import matplotlib.pyplot as plt\n",
        "\n",
        "n = 50\n",
        "e = np.random.randn(n,)\n",
        "x = np.linspace(0, 3, n)\n",
        "y = np.exp(x) + e \n",
        "\n",
        "print(\"yの平均は\" + str(np.mean(y)) + \"です\")\n",
        "print(\"yの分散は\" + str(np.var(y)) + \"です\")\n",
        "\n",
        "fig = plt.figure()\n",
        "\n",
        "ax1=fig.add_subplot(1,2,1)\n",
        "ax1.scatter(x,y)\n",
        "ax1.set_xlabel('x', fontsize=15)\n",
        "ax1.set_ylabel('y', fontsize=15)\n",
        "\n",
        "ax2=fig.add_subplot(1,2,2)\n",
        "ax2.hist(y)\n",
        "ax2.set_xlabel('value of y', fontsize=15)\n",
        "ax2.set_ylabel('frequency', fontsize=15)\n",
        "\n",
        "fig.tight_layout()\n",
        "fig.show()\n"
      ],
      "execution_count": null,
      "outputs": []
    },
    {
      "cell_type": "markdown",
      "metadata": {
        "id": "xJdbHwSNKwQZ"
      },
      "source": [
        "<font size=2 color=blue>\n",
        "【コードの解説】<br>\n",
        "このセルでは，シミュレーションによってデータを生成し，それらの簡単な分析を行っています．<br>\n",
        "① まず，最初の1-2行目では作図をするための道具(matplotlib)を宣言しています．決まり文句なので特に理解する必要はありません．<br>\n",
        "② 次に，シミュレーション部分（4-7行目）の説明をします．4行目\"n=50\"では生成する標本の数を指定しています．5行目の\"e = np.random.randn(n,)\"ではn点分の誤差成分を平均0，分散1の正規分布から生成しています．6行目の\"x=linespace(0, 3, n)\"では，0から3までの値を等間隔でn点取り出しています．最後に\"y = np.exp(x) + e\"でyが生成されます．ベクトルの足し算は，これまでに学んだことの応用ですね．<br>\n",
        "③ 9-10行目では，それぞれyの平均，分散を出力しています．関数\"np.mean()\"と関数\"np.var()\"を用いています．<br>\n",
        "④ 最後に，12行目以降はxとyの散布図，yのヒストグラムを出力する部分です．重要なのは15行目の\"ax1.scatter(x,y)\"と20行目の\"ax2.hist(y)\"です．それぞれ散布図，ヒストグラムを描画する関数を呼び出しています．\n",
        "<br>"
      ]
    },
    {
      "cell_type": "markdown",
      "metadata": {
        "id": "hdKtZKYhQcCN"
      },
      "source": [
        "# 最後に\n",
        "ここまで頑張った諸君，おめでとうございます！<br>\n",
        "結構な分量になってしまったので大変だったかと思います．プログラミングはそれ自体でいくつもの講義になるような代物ですが，このご時世インターネット環境とやる気さえあれば誰でも独学で十分勉強することができます．もししっかりと実力をつけることができればみなさんの将来を切り開く強い武器になるでしょう．<br>\n",
        "これを機に興味を持った方は，是非継続的に勉強してみてください！\n"
      ]
    }
  ]
}