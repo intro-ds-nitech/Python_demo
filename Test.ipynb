{
  "nbformat": 4,
  "nbformat_minor": 0,
  "metadata": {
    "colab": {
      "name": "Test.ipynb",
      "provenance": [],
      "collapsed_sections": []
    },
    "kernelspec": {
      "name": "python3",
      "display_name": "Python 3"
    },
    "language_info": {
      "name": "python"
    }
  },
  "cells": [
    {
      "cell_type": "code",
      "metadata": {
        "cellView": "form",
        "id": "UXdynYEwI4Py"
      },
      "source": [
        "#@title 左の▷をクリックしてください．必要に応じてgoogleアカウントにログインしてください．警告が出ると思いますが気にせず「このまま実行」をクリックしてください．\n",
        "print(\"動作確認完了です！お疲れさまでした！\")"
      ],
      "execution_count": null,
      "outputs": []
    }
  ]
}
