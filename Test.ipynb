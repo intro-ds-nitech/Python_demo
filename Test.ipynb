{
  "nbformat": 4,
  "nbformat_minor": 0,
  "metadata": {
    "colab": {
      "name": "Test.ipynb",
      "provenance": [],
      "collapsed_sections": []
    },
    "kernelspec": {
      "name": "python3",
      "display_name": "Python 3"
    },
    "language_info": {
      "name": "python"
    }
  },
  "cells": [
    {
      "cell_type": "code",
      "metadata": {
        "colab": {
          "base_uri": "https://localhost:8080/"
        },
        "cellView": "form",
        "id": "UXdynYEwI4Py",
        "outputId": "6f503af9-3ab3-428a-fc32-08513c5c86d4"
      },
      "source": [
        "#@title 左の▷をクリックしてください．必要に応じてgoogleアカウントにログインしてください．\n",
        "print(\"動作確認完了です！お疲れさまでした！\")"
      ],
      "execution_count": 2,
      "outputs": [
        {
          "output_type": "stream",
          "text": [
            "動作確認完了です！お疲れさまでした！\n"
          ],
          "name": "stdout"
        }
      ]
    }
  ]
}