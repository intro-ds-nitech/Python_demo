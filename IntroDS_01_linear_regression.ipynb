{
  "nbformat": 4,
  "nbformat_minor": 0,
  "metadata": {
    "colab": {
      "name": "IntroDS_01_linear_regression.ipynb",
      "provenance": [],
      "collapsed_sections": []
    },
    "kernelspec": {
      "name": "python3",
      "display_name": "Python 3"
    }
  },
  "cells": [
    {
      "cell_type": "markdown",
      "metadata": {
        "id": "u-QmShUlQ1_Z"
      },
      "source": [
        "#線形回帰分析と仮説検定\n",
        "この演習ではPythonを用いて線形回帰分析と仮説検定までの流れを体験していきたいと思います．Moodleのデモ動画を見ながらそのままをタイピングしていけばプログラムは完成します．では，やっていきましょう！"
      ]
    },
    {
      "cell_type": "markdown",
      "metadata": {
        "id": "Khy-Y5lKSLLX"
      },
      "source": [
        "## 1. データ入力と可視化<br>\n",
        "今回は，以下のデータを分析対象とします．\n",
        "\n",
        "|   |   |   |   |   |   |   |   |   |   |   |\n",
        "|:-:|:-:|:-:|:-:|:-:|:-:|:-:|:-:|:-:|:-:|:-:|\n",
        "| $x$ | 1 | 2 | 2 | 3 | 3 | 4 | 4 | 4 | 5 | 5 |\n",
        "| $y$ | 4 | 6 | 3 | 5 | 6 | 7 | 3 | 5 | 6 | 7 |\n",
        "\n",
        "まずは，このデータを配列として定義し，二次元散布図で可視化してみましょう．"
      ]
    },
    {
      "cell_type": "code",
      "metadata": {
        "id": "0PlAlIEhK2DS"
      },
      "source": [
        "# 散布図でデータを表示する\n",
        "%matplotlib inline\n",
        "import numpy as np\n",
        "import matplotlib.pyplot as plt\n",
        "\n",
        "x = np.array([1, 2, 2, 3, 3, 4, 4, 4, 5, 5])\n",
        "y = np.array([4, 6, 3, 5, 6, 7, 3, 5, 6, 7])\n",
        "\n",
        "plt.scatter(x, y)\n",
        "plt.xlabel('x', fontsize=18)\n",
        "plt.ylabel('y', fontsize=18)\n",
        "plt.grid(True)"
      ],
      "execution_count": null,
      "outputs": []
    },
    {
      "cell_type": "markdown",
      "metadata": {
        "id": "rtUV8LKFXYYX"
      },
      "source": [
        "## 2. 代表値の計算\n",
        "次に，変量$x$と$y$それぞれの代表値を計算してみましょう．<br>\n",
        "計算する代表値と定義の表は以下です．<br>\n",
        "\n",
        " 代表値   |&nbsp;&nbsp;&nbsp;&nbsp;&nbsp;&nbsp;&nbsp;&nbsp;&nbsp;&nbsp;&nbsp;&nbsp;&nbsp;&nbsp;&nbsp;&nbsp;&nbsp;&nbsp;&nbsp;&nbsp;&nbsp;&nbsp;&nbsp;&nbsp;&nbsp;&nbsp;&nbsp;&nbsp;&nbsp;&nbsp;&nbsp;&nbsp;&nbsp;&nbsp;&nbsp;&nbsp;&nbsp;&nbsp;&nbsp;&nbsp;計算式&nbsp;&nbsp;&nbsp;&nbsp;&nbsp;&nbsp;&nbsp;&nbsp;&nbsp;&nbsp;&nbsp;&nbsp;&nbsp;&nbsp;&nbsp;&nbsp;&nbsp;&nbsp;&nbsp;&nbsp; &nbsp;&nbsp;&nbsp;&nbsp;&nbsp;&nbsp;&nbsp;&nbsp;&nbsp;&nbsp;&nbsp;&nbsp;&nbsp;&nbsp;&nbsp;&nbsp;&nbsp;&nbsp;&nbsp;&nbsp;\n",
        "--------- |----------------------------------------\n",
        "$x$の平均 | $\\bar{x} = \\frac{1}{n}\\sum_{i=1}^n x_i$\n",
        "$y$の平均 | $\\bar{y} = \\frac{1}{n}\\sum_{i=1}^n y_i$ \n",
        "$x$の分散 | $S_{xx} = \\frac{1}{n}\\sum_{i=1}^n (x_i - \\bar{x})^2$ \n",
        "$y$の分散 | $S_{yy} = \\frac{1}{n}\\sum_{i=1}^n (y_i - \\bar{y})^2$ \n",
        "$x,y$の共分散 | $S_{xy} = \\frac{1}{n}\\sum_{i=1}^n (x_i - \\bar{x})(y_i - \\bar{y})$\n",
        "\n"
      ]
    },
    {
      "cell_type": "code",
      "metadata": {
        "id": "JnDqkppFWrUH"
      },
      "source": [
        "# 代表値の数値計算\n",
        "n =      # サンプルの数\n",
        "mean_x = # xの平均\n",
        "mean_y = # yの平均\n",
        "var_x  = # xの分散\n",
        "var_y  = # yの分散\n",
        "cov_xy = # x,yの共分散\n",
        "\n",
        "print(\"xの平均=%.4f\" % mean_x)\n",
        "print(\"yの平均=%.4f\" % mean_y)\n",
        "print(\"xの分散=%.4f\" % var_x)\n",
        "print(\"yの分散=%.4f\" % var_y)\n",
        "print(\"x,yの共分散=%.4f\" % cov_xy)"
      ],
      "execution_count": null,
      "outputs": []
    },
    {
      "cell_type": "markdown",
      "metadata": {
        "id": "il8KQH3bfCdH"
      },
      "source": [
        "## 3. 線形回帰分析\n",
        "いよいよ，線形回帰分析をやっていきます．<br>\n",
        "\n",
        "仮定する線形モデルは以下です．<br>\n",
        "$y_i = \\beta_0 + \\beta_1 x_i + \\varepsilon_i$，$\\varepsilon_i \\sim N(0, \\sigma^2)$<br>\n",
        "また，$\\sigma=1$は既知とします．<br>\n",
        "\n",
        "データから$\\beta_0$, $\\beta_1$を推定し，直線を描画してみましょう．<br>\n",
        "また，決定係数も計算してみましょう．<br>\n",
        "計算式は以下です．<br>\n",
        "切片：$\\hat{\\beta}_0 = \\bar{y} - \\frac{S_{xy}}{S_{xx}} \\bar{x}$ <br>\n",
        "傾き：$\\hat{\\beta}_1 = \\frac{S_{xy}}{S_{xx}}$ <br>\n",
        "決定係数：$R^2 = \\frac{\\text{S}_{\\text{reg}}}{ \\text{S}_{\\text{all}} } = \\frac{\\sum_{i=1}^n (\\hat{y}_i - \\bar{y})^2 }{ \\sum_{i=1}^n (y_i - \\bar{y})^2 }$"
      ]
    },
    {
      "cell_type": "code",
      "metadata": {
        "cellView": "code",
        "id": "G9rk1P4riFwO"
      },
      "source": [
        "#@title 線形回帰と描画\n",
        "%matplotlib inline\n",
        "\n",
        "beta1 = # 傾き\n",
        "beta0 = # 切片\n",
        "S_reg = # 回帰変動の平方和\n",
        "S_all = # 全変動の平方和\n",
        "R2    = # 決定係数\n",
        "\n",
        "print(\" 切片 = %.4f \" % beta0)\n",
        "print(\" 傾き = %.4f \" % beta1)\n",
        "print(\" 決定係数 = %.4f \" % R2)\n",
        "\n",
        "plt.scatter(x, y)\n",
        "plt.xlabel('x', fontsize=18)\n",
        "plt.ylabel('y', fontsize=18)\n",
        "plt.grid(True)\n",
        "\n",
        "#直線の描画\n",
        "x_lim = np.array([np.min(x)-1, np.max(x)+1])\n",
        "y_lim = beta0 + beta1*x_lim\n",
        "plt.plot(x_lim,y_lim, \"red\")\n",
        "plt.show()"
      ],
      "execution_count": null,
      "outputs": []
    },
    {
      "cell_type": "markdown",
      "metadata": {
        "id": "pPx4c-Xojsvt"
      },
      "source": [
        "# 4. 仮説検定\n",
        "最後に，推定した傾き$\\hat{\\beta}_1$が統計的に意味のあるものなのか，について仮説検定を用いて調べていきたいと思います．\n",
        "\n",
        "まず，帰無仮説と対立仮説<br>\n",
        "$H_0 : \\beta_1 = 0$<br>\n",
        "$H_1 : \\beta_1 \\neq 0$<br>\n",
        "を考えます．<br>\n",
        "$\\sigma$を既知とすると，$H_0$が正しいならば$\\hat{\\beta}_1 \\sim N(0,\\frac{\\sigma^2}{n S_{xx}})$に従うはずです．\n",
        "\n",
        "まずは，正規分布$N(0,\\frac{\\sigma^2}{n S_{xx}})$と$\\hat{\\beta}_1$の値を描画してみましょう．"
      ]
    },
    {
      "cell_type": "code",
      "metadata": {
        "cellView": "code",
        "id": "zXZBBHpzmB6e"
      },
      "source": [
        "#@title 傾きの推定量が従う正規分布の描画\n",
        "%matplotlib inline\n",
        "\n",
        "sigma = 1.0 # sigmaは既知\n",
        "var_beta1 = # 傾きの推定量の分散\n",
        "\n",
        "t  = np.linspace(-1.0, 1.0, 100)\n",
        "pt = 1/np.sqrt(2*np.pi*var_beta1)*np.exp(-1/var_beta1*(t**2))\n",
        "\n",
        "plt.plot(t, pt)\n",
        "plt.xlabel('beta1', fontsize=18)\n",
        "plt.ylabel('p(beta1)', fontsize=18)\n",
        "plt.grid(True)\n",
        "\n",
        "plt.scatter(beta1, 0, color=\"red\")\n",
        "plt.text(beta1, 0.1, \"Estimated beta1\", size=20, color=\"red\")\n",
        "\n",
        "plt.show()"
      ],
      "execution_count": null,
      "outputs": []
    },
    {
      "cell_type": "markdown",
      "metadata": {
        "id": "IBfntFR4qdXW"
      },
      "source": [
        "描画しただけでは定量的な評価になりません．<br>\n",
        "実際に$-|\\hat{\\beta}_1|$，$|\\hat{\\beta}_1|$を境界にして正規分布の両端の面積を計算していきましょう．"
      ]
    },
    {
      "cell_type": "code",
      "metadata": {
        "id": "YHAE_gthq--9"
      },
      "source": [
        "from scipy.stats import norm\n",
        "\n",
        "z_value = # beta1の値を正規化\n",
        "p_value = # p値を計算\n",
        "\n",
        "print(\"z値は\" + str(z_value))\n",
        "print(\"p値は\" + str(p_value))"
      ],
      "execution_count": null,
      "outputs": []
    },
    {
      "cell_type": "markdown",
      "metadata": {
        "id": "Q3-J_Oo1scL1"
      },
      "source": [
        "## 提出課題\n",
        "以下に示す図のPC画面と手書きした紙の写真を撮り，moodleで提出してください．\n",
        "1. 線形回帰後の散布図（PC画面）\n",
        "2. $\\hat{\\beta}_1$が従う正規分布の図（PC画面）\n",
        "3. z値またはp値を用いた有意水準5%と1%の検定結果（手書きした紙）\n",
        "\n",
        "今日の演習はここまでです！お疲れさまでした！"
      ]
    }
  ]
}
